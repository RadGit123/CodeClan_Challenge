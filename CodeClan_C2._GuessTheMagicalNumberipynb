{
 "cells": [
  {
   "cell_type": "markdown",
   "id": "5132a97a-a892-4e38-98c1-33c3d3d810b2",
   "metadata": {},
   "source": [
    "# CodeClan challenge_2_Magical Number Guessing Game."
   ]
  },
  {
   "cell_type": "markdown",
   "id": "7e71c2c4-8d3c-4543-b1bf-f24342f30f0c",
   "metadata": {},
   "source": [
    "# method 1: while loop"
   ]
  },
  {
   "cell_type": "code",
   "execution_count": null,
   "id": "4479d358-ce62-4a13-964d-ad2962813cd6",
   "metadata": {},
   "outputs": [],
   "source": [
    "import random as RD\n"
   ]
  },
  {
   "cell_type": "code",
   "execution_count": 3,
   "id": "2f4bc4d7-a9bf-44c9-988f-f42d457cedce",
   "metadata": {},
   "outputs": [
    {
     "name": "stdin",
     "output_type": "stream",
     "text": [
      "GUESS AN NUMBER BETWEEN 1 AND 10: 1\n"
     ]
    },
    {
     "name": "stdout",
     "output_type": "stream",
     "text": [
      "Too  low! Try againe\n"
     ]
    },
    {
     "name": "stdin",
     "output_type": "stream",
     "text": [
      "GUESS AN NUMBER BETWEEN 1 AND 10: 2\n"
     ]
    },
    {
     "name": "stdout",
     "output_type": "stream",
     "text": [
      "Too  low! Try againe\n"
     ]
    },
    {
     "name": "stdin",
     "output_type": "stream",
     "text": [
      "GUESS AN NUMBER BETWEEN 1 AND 10: 6\n"
     ]
    },
    {
     "name": "stdout",
     "output_type": "stream",
     "text": [
      "Too  low! Try againe\n"
     ]
    },
    {
     "name": "stdin",
     "output_type": "stream",
     "text": [
      "GUESS AN NUMBER BETWEEN 1 AND 10: 7\n"
     ]
    },
    {
     "name": "stdout",
     "output_type": "stream",
     "text": [
      "Too  low! Try againe\n"
     ]
    },
    {
     "name": "stdin",
     "output_type": "stream",
     "text": [
      "GUESS AN NUMBER BETWEEN 1 AND 10: 8\n"
     ]
    },
    {
     "name": "stdout",
     "output_type": "stream",
     "text": [
      "🎉Correct ! you guessed it!\n"
     ]
    }
   ],
   "source": [
    "Magical_Number = RD.randint(1,10)  # generate random integer between 1 and 10 ,10 inclusive.\n",
    "User_Guess=0\n",
    "while User_Guess!= Magical_Number:\n",
    " User_Guess=int(input(\"GUESS AN NUMBER BETWEEN 1 AND 10:\"))\n",
    "\n",
    " if User_Guess<Magical_Number:\n",
    "  print(\"Too  low! Try againe\")\n",
    "\n",
    " elif User_Guess>Magical_Number:\n",
    "  print(\"Too  High ! Try againe\")\n",
    "\n",
    " else:\n",
    "  print(\"🎉Correct ! you guessed it!\")\n"
   ]
  },
  {
   "cell_type": "code",
   "execution_count": null,
   "id": "acb70764-b430-4afc-923c-1dd79f3fd124",
   "metadata": {},
   "outputs": [],
   "source": []
  },
  {
   "cell_type": "markdown",
   "id": "7d5839b6-e9dd-44af-b4d9-8c52315de387",
   "metadata": {},
   "source": [
    "# method 2 :for loop _limited attempts."
   ]
  },
  {
   "cell_type": "code",
   "execution_count": 4,
   "id": "88a4ff3c-2c52-42b8-9593-f5dfa70e05ba",
   "metadata": {},
   "outputs": [
    {
     "name": "stdin",
     "output_type": "stream",
     "text": [
      " (5 left),GUESS AN NUMBER BETWEEN 1 AND 10: 4\n"
     ]
    },
    {
     "name": "stdout",
     "output_type": "stream",
     "text": [
      "Too  low! Try againe\n"
     ]
    },
    {
     "name": "stdin",
     "output_type": "stream",
     "text": [
      " (4 left),GUESS AN NUMBER BETWEEN 1 AND 10: 7\n"
     ]
    },
    {
     "name": "stdout",
     "output_type": "stream",
     "text": [
      "Too  low! Try againe\n"
     ]
    },
    {
     "name": "stdin",
     "output_type": "stream",
     "text": [
      " (3 left),GUESS AN NUMBER BETWEEN 1 AND 10: 9\n"
     ]
    },
    {
     "name": "stdout",
     "output_type": "stream",
     "text": [
      "Too  High ! Try againe\n"
     ]
    },
    {
     "name": "stdin",
     "output_type": "stream",
     "text": [
      " (2 left),GUESS AN NUMBER BETWEEN 1 AND 10: 10\n"
     ]
    },
    {
     "name": "stdout",
     "output_type": "stream",
     "text": [
      "Too  High ! Try againe\n"
     ]
    },
    {
     "name": "stdin",
     "output_type": "stream",
     "text": [
      " (1 left),GUESS AN NUMBER BETWEEN 1 AND 10: 8\n"
     ]
    },
    {
     "name": "stdout",
     "output_type": "stream",
     "text": [
      "🎉Correct ! you guessed it!\n"
     ]
    }
   ],
   "source": [
    "import random as RD\n",
    "Magical_Number = RD.randint(1,10)  # generate random integer between 1 and 10 ,10 inclusive.\n",
    "attempts= 5\n",
    "for i in range(attempts,0,-1):\n",
    "    User_Guess=int(input(f\" ({i} left),GUESS AN NUMBER BETWEEN 1 AND 10:\"))\n",
    "\n",
    "    if User_Guess<Magical_Number:\n",
    "     print(\"Too  low! Try againe\")\n",
    "\n",
    "    elif User_Guess>Magical_Number:\n",
    "     print(\"Too  High ! Try againe\")\n",
    "\n",
    "    else:\n",
    "     print(\"🎉Correct ! you guessed it!\")\n",
    "     break\n",
    "else:\n",
    " print(f\"attempts over!the number is {Magical_Number}\")"
   ]
  },
  {
   "cell_type": "code",
   "execution_count": null,
   "id": "fb6934e4-e5bb-42ad-ad1a-541294da755d",
   "metadata": {},
   "outputs": [],
   "source": []
  },
  {
   "cell_type": "markdown",
   "id": "d7214e75-1a34-467a-b5b8-3ce58445d36a",
   "metadata": {},
   "source": [
    "# method 3 : while loop _limited attempts."
   ]
  },
  {
   "cell_type": "code",
   "execution_count": 5,
   "id": "c219e9bb-bae6-48a7-8db4-980ad66699ee",
   "metadata": {},
   "outputs": [
    {
     "name": "stdin",
     "output_type": "stream",
     "text": [
      "(5 attempts left) GUESS AN NUMBER BETWEEN 1 AND 10: 8\n"
     ]
    },
    {
     "name": "stdout",
     "output_type": "stream",
     "text": [
      "Too  low! Try againe\n"
     ]
    },
    {
     "name": "stdin",
     "output_type": "stream",
     "text": [
      "(4 attempts left) GUESS AN NUMBER BETWEEN 1 AND 10: 9\n"
     ]
    },
    {
     "name": "stdout",
     "output_type": "stream",
     "text": [
      "Too  low! Try againe\n"
     ]
    },
    {
     "name": "stdin",
     "output_type": "stream",
     "text": [
      "(3 attempts left) GUESS AN NUMBER BETWEEN 1 AND 10: 10\n"
     ]
    },
    {
     "name": "stdout",
     "output_type": "stream",
     "text": [
      "🎉Correct ! you guessed it!\n"
     ]
    }
   ],
   "source": [
    "import random as RD\n",
    "Magical_Number = RD.randint(1,10)  # generate random integer between 1 and 10 ,10 inclusive.\n",
    "attempts= 5\n",
    "while attempts>0:\n",
    "    User_Guess=int(input(f\"({attempts} attempts left) GUESS AN NUMBER BETWEEN 1 AND 10:\"))\n",
    "\n",
    "    if User_Guess<Magical_Number:\n",
    "     print(\"Too  low! Try againe\")\n",
    "\n",
    "    elif User_Guess>Magical_Number:\n",
    "     print(\"Too  High ! Try againe\")\n",
    "\n",
    "    else:\n",
    "     print(\"🎉Correct ! you guessed it!\")\n",
    "     break\n",
    "    attempts-=1\n",
    "else:\n",
    " print(f\"attempts over!the number is {Magical_Number}\")"
   ]
  },
  {
   "cell_type": "code",
   "execution_count": null,
   "id": "d35e8323-2278-4382-8090-0742ca85802f",
   "metadata": {},
   "outputs": [],
   "source": []
  }
 ],
 "metadata": {
  "kernelspec": {
   "display_name": "Python 3 (ipykernel)",
   "language": "python",
   "name": "python3"
  },
  "language_info": {
   "codemirror_mode": {
    "name": "ipython",
    "version": 3
   },
   "file_extension": ".py",
   "mimetype": "text/x-python",
   "name": "python",
   "nbconvert_exporter": "python",
   "pygments_lexer": "ipython3",
   "version": "3.12.7"
  }
 },
 "nbformat": 4,
 "nbformat_minor": 5
}
