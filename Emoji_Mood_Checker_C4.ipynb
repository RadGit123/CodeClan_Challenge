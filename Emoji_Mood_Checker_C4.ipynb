{
 "cells": [
  {
   "cell_type": "markdown",
   "id": "20c109fd-ca8f-4776-8988-0604a6a5d9d4",
   "metadata": {},
   "source": [
    "# CodeClan Challenge_4"
   ]
  },
  {
   "cell_type": "markdown",
   "id": "19d7bfcc-4e29-496f-aa1b-5ba7364261d4",
   "metadata": {},
   "source": [
    "# EMOJI MOOD CHECKER Method 1"
   ]
  },
  {
   "cell_type": "code",
   "execution_count": 25,
   "id": "9736a842-b279-4eef-902e-c05fe63bc836",
   "metadata": {},
   "outputs": [
    {
     "name": "stdin",
     "output_type": "stream",
     "text": [
      "Whats your Mood: bad\n"
     ]
    },
    {
     "name": "stdout",
     "output_type": "stream",
     "text": [
      "😉 Any how stay happy dear !\n"
     ]
    }
   ],
   "source": [
    "Mood=input(\"Whats your Mood:\").capitalize()\n",
    "\n",
    "H=\"😊\"\n",
    "S=\"😔\"\n",
    "A=\"😣\"\n",
    "E=\"😃\" \n",
    "N=\"😉\"\n",
    "\n",
    "if Mood==\"Happy\":\n",
    "  print(f\"{H} stay happy\")\n",
    "elif Mood==\"Sad\":\n",
    "  print(f\"{S} Dont worry\")\n",
    "elif Mood==\"Anger\":\n",
    "  print(f\"{A} Be cool\")\n",
    "elif Mood==\"Excited\":\n",
    "  print(f\"{E} Wow\")\n",
    "else:\n",
    "  print(f\"{N} Any how stay happy dear !\")            #  \"😉\") + \" , stay awesome !\"print default if the moode is matching with input"
   ]
  },
  {
   "cell_type": "code",
   "execution_count": null,
   "id": "b32fded4-6aef-42b7-af56-96f7d24ba450",
   "metadata": {},
   "outputs": [],
   "source": []
  },
  {
   "cell_type": "markdown",
   "id": "c14ac03c-d69d-411f-ae43-d5ee8747023e",
   "metadata": {},
   "source": [
    "# EMOJI MOOD CHECKER Method 2"
   ]
  },
  {
   "cell_type": "code",
   "execution_count": 33,
   "id": "0e24bdc5-2e1c-458d-a5e8-9c44c3ac2a53",
   "metadata": {},
   "outputs": [
    {
     "name": "stdin",
     "output_type": "stream",
     "text": [
      "Whats your Mood: happy\n"
     ]
    },
    {
     "name": "stdout",
     "output_type": "stream",
     "text": [
      "😊 Be happy always!\n"
     ]
    }
   ],
   "source": [
    "Mood=input(\"Whats your Mood:\").capitalize()\n",
    "\n",
    "Emojis={\"Happy\":\"😊 Be happy always!\",\"Sad\":\"😔 Dont be sad !\",\"Anger\":\"😣 Be cool !\",\"Excited\":\"😃 Wow !\"}\n",
    "\n",
    "print(Emojis.get(Mood,\"😉 Any how stay happy dear!\"))      #  \"🙄\") + \" , stay awesome !\"print default if the moode is matching with input."
   ]
  },
  {
   "cell_type": "code",
   "execution_count": null,
   "id": "49a6a345-d182-435b-ad09-6fbef000ca4a",
   "metadata": {},
   "outputs": [],
   "source": []
  }
 ],
 "metadata": {
  "kernelspec": {
   "display_name": "Python 3 (ipykernel)",
   "language": "python",
   "name": "python3"
  },
  "language_info": {
   "codemirror_mode": {
    "name": "ipython",
    "version": 3
   },
   "file_extension": ".py",
   "mimetype": "text/x-python",
   "name": "python",
   "nbconvert_exporter": "python",
   "pygments_lexer": "ipython3",
   "version": "3.12.7"
  }
 },
 "nbformat": 4,
 "nbformat_minor": 5
}
