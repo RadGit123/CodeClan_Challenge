{
 "cells": [
  {
   "cell_type": "markdown",
   "id": "410c241b-c2e1-4d6b-a053-0bd48d082026",
   "metadata": {},
   "source": [
    "# CodeClan challenge_9"
   ]
  },
  {
   "cell_type": "markdown",
   "id": "470bb47e-673a-4f8a-ac01-11ef3540a451",
   "metadata": {},
   "source": [
    "# ROCK_PAPER_SCISSORS"
   ]
  },
  {
   "cell_type": "code",
   "execution_count": 9,
   "id": "02576d9a-2460-48c7-a9d0-21a2c7559f42",
   "metadata": {},
   "outputs": [],
   "source": [
    "import random as RD                       # method 1 _without function _only using loop"
   ]
  },
  {
   "cell_type": "code",
   "execution_count": 12,
   "id": "00e8ef77-cc79-404b-b78f-ba6a09dc9281",
   "metadata": {},
   "outputs": [
    {
     "name": "stdin",
     "output_type": "stream",
     "text": [
      "What's your choice (rock, paper, scissors)?: paper\n"
     ]
    },
    {
     "name": "stdout",
     "output_type": "stream",
     "text": [
      "computer's choice:scissors\n",
      "🎉Computer won !\n",
      "Score - User: 0 / Computer: 1\n"
     ]
    },
    {
     "name": "stdin",
     "output_type": "stream",
     "text": [
      "Do you want to play again? (yes/no):  yes\n",
      "What's your choice (rock, paper, scissors)?: scissors\n"
     ]
    },
    {
     "name": "stdout",
     "output_type": "stream",
     "text": [
      "computer's choice:paper\n",
      " 🎉User won \n"
     ]
    },
    {
     "name": "stdin",
     "output_type": "stream",
     "text": [
      "Do you want to play again? (yes/no):  yes\n",
      "What's your choice (rock, paper, scissors)?: rock\n"
     ]
    },
    {
     "name": "stdout",
     "output_type": "stream",
     "text": [
      "computer's choice:scissors\n",
      " 🎉User won \n"
     ]
    },
    {
     "name": "stdin",
     "output_type": "stream",
     "text": [
      "Do you want to play again? (yes/no):  yes\n",
      "What's your choice (rock, paper, scissors)?: paper\n"
     ]
    },
    {
     "name": "stdout",
     "output_type": "stream",
     "text": [
      "computer's choice:paper\n",
      "hey..its the same\n"
     ]
    },
    {
     "name": "stdin",
     "output_type": "stream",
     "text": [
      "What's your choice (rock, paper, scissors)?: paper\n"
     ]
    },
    {
     "name": "stdout",
     "output_type": "stream",
     "text": [
      "computer's choice:rock\n",
      " 🎉User won \n"
     ]
    },
    {
     "name": "stdin",
     "output_type": "stream",
     "text": [
      "Do you want to play again? (yes/no):  no\n"
     ]
    },
    {
     "name": "stdout",
     "output_type": "stream",
     "text": [
      "Thanks for playing! Goodbye. 👋\n",
      "  user's score: 3 / Computer's score: 1\n"
     ]
    }
   ],
   "source": [
    "user_score = 0\n",
    "computer_score = 0\n",
    "\n",
    "while True:\n",
    "  Computer_choice = RD.choice([\"rock\",\"paper\",\"scissors\"])\n",
    "  User_Guess=input(\"What's your choice (rock, paper, scissors)?:\").lower()\n",
    "    \n",
    "\n",
    "  while User_Guess not in [\"rock\", \"paper\", \"scissors\"]:\n",
    "    print(\"Invalid choice! Please enter rock, paper, or scissors.\")\n",
    "    User_Guess = input(\"What's your choice (rock, paper, scissors)?: \").lower()\n",
    "      \n",
    "\n",
    "  print(f\"computer's choice:{Computer_choice}\")\n",
    "    \n",
    "\n",
    "  if User_Guess==Computer_choice:\n",
    "   print(\"hey..its the same\")\n",
    "   continue\n",
    "      \n",
    "\n",
    "  elif(User_Guess == \"rock\" and Computer_choice == \"scissors\") or \\\n",
    "      (User_Guess == \"paper\" and Computer_choice == \"rock\") or \\\n",
    "      (User_Guess == \"scissors\" and Computer_choice == \"paper\"):\n",
    "       print(\" 🎉User won \")                                                                \n",
    "       user_score += 1 \n",
    "\n",
    "  else:\n",
    "   print(\"🎉Computer won !\")\n",
    "   computer_score += 1 \n",
    "\n",
    "   print(f\"Score - User: {user_score} / Computer: {computer_score}\") \n",
    "\n",
    "  play_again = input(\"Do you want to play again? (yes/no): \").lower()\n",
    "  if play_again != \"yes\":\n",
    "    print(\"Thanks for playing! Goodbye. 👋\")\n",
    "    print(f\"  user's score: {user_score} / Computer's score: {computer_score}\")   \n",
    "    break        \n",
    "\n",
    "\n"
   ]
  },
  {
   "cell_type": "code",
   "execution_count": null,
   "id": "893f962e-f245-47c7-b7c1-1831e013eb74",
   "metadata": {},
   "outputs": [],
   "source": []
  },
  {
   "cell_type": "markdown",
   "id": "5faf817d-ea99-4e35-8dc8-e980cee5dd17",
   "metadata": {},
   "source": [
    "# ROCK_PAPER_SCISSORS-method 2 using  loop and function call"
   ]
  },
  {
   "cell_type": "code",
   "execution_count": 3,
   "id": "4369cd4c-834f-4a9d-81de-acc4ee8baafe",
   "metadata": {},
   "outputs": [],
   "source": [
    "   "
   ]
  },
  {
   "cell_type": "code",
   "execution_count": 7,
   "id": "52b074db-cb39-4163-8bb9-b99f960315ca",
   "metadata": {},
   "outputs": [
    {
     "name": "stdout",
     "output_type": "stream",
     "text": [
      " lets play rock,paper scissors,are you ready !:\n"
     ]
    },
    {
     "name": "stdin",
     "output_type": "stream",
     "text": [
      "What's your choice (rock, paper, scissors)?:  rock\n"
     ]
    },
    {
     "name": "stdout",
     "output_type": "stream",
     "text": [
      "Computer's choice: paper\n",
      "🎉computer won !\n",
      "Score - user: 0 / Computer: 1\n"
     ]
    },
    {
     "name": "stdin",
     "output_type": "stream",
     "text": [
      "Do you want to play again? (yes/no):  yes\n",
      "What's your choice (rock, paper, scissors)?:  scissors\n"
     ]
    },
    {
     "name": "stdout",
     "output_type": "stream",
     "text": [
      "Computer's choice: paper\n",
      " 🎉user won !\n",
      "Score - user: 1 / Computer: 1\n"
     ]
    },
    {
     "name": "stdin",
     "output_type": "stream",
     "text": [
      "Do you want to play again? (yes/no):  yes\n",
      "What's your choice (rock, paper, scissors)?:  scissors\n"
     ]
    },
    {
     "name": "stdout",
     "output_type": "stream",
     "text": [
      "Computer's choice: rock\n",
      "🎉computer won !\n",
      "Score - user: 1 / Computer: 2\n"
     ]
    },
    {
     "name": "stdin",
     "output_type": "stream",
     "text": [
      "Do you want to play again? (yes/no):  no\n"
     ]
    },
    {
     "name": "stdout",
     "output_type": "stream",
     "text": [
      "Thanks for playing! Goodbye. 👋\n",
      " user's score: 1 / Computer's score: 2\n"
     ]
    }
   ],
   "source": [
    "import random   \n",
    "\n",
    "def computer_choice():\n",
    "    return random.choice([\"rock\",\"paper\",\"scissors\"])\n",
    "    \n",
    "\n",
    "def winner(user_guess, computer_choice):\n",
    "\n",
    "   if user_guess==computer_choice:\n",
    "     return \" its  the same\"\n",
    "\n",
    "   elif(user_guess == \"rock\" and computer_choice == \"scissors\") or \\\n",
    "      (user_guess == \"paper\" and computer_choice == \"rock\") or \\\n",
    "      (user_guess == \"scissors\" and computer_choice == \"paper\"):\n",
    "      return \" 🎉user won !\"\n",
    "      \n",
    "   else:\n",
    "     return \"🎉computer won !\" \n",
    "\n",
    "\n",
    "def lets_play():\n",
    "  print(\" lets play rock,paper scissors,are you ready !:\")\n",
    " \n",
    "  user_score=0\n",
    "  computer_score=0\n",
    "\n",
    "  while True:\n",
    "   user_guess = input(\"What's your choice (rock, paper, scissors)?: \").lower()\n",
    "   if user_guess not in [\"rock\", \"paper\", \"scissors\"]:\n",
    "     print(\"Invalid choice! Please enter rock, paper, or scissors.\")\n",
    "     continue\n",
    "\n",
    "\n",
    "   system_choice = computer_choice()\n",
    "   print(f\"Computer's choice: {system_choice}\")\n",
    "\n",
    "\n",
    "\n",
    "   Final_result = winner(user_guess, system_choice)\n",
    "   print(Final_result)\n",
    "\n",
    "   if \"🎉user won !\" in Final_result:\n",
    "         user_score += 1\n",
    "   elif \"🎉computer won !\" in Final_result:\n",
    "           computer_score += 1\n",
    "\n",
    "   print(f\"Score - user: {user_score} / Computer: {computer_score}\")\n",
    "\n",
    "\n",
    "   play_again = input(\"Do you want to play again? (yes/no): \").lower()\n",
    "   if play_again != \"yes\":\n",
    "      print(\"Thanks for playing! Goodbye. 👋\")\n",
    "      print(f\"  user's score: {user_score} / Computer's score: {computer_score}\") \n",
    "      break   \n",
    "\n",
    "lets_play()"
   ]
  },
  {
   "cell_type": "code",
   "execution_count": null,
   "id": "f56512f2-0f8d-4548-90fb-ce2632e29789",
   "metadata": {},
   "outputs": [],
   "source": []
  }
 ],
 "metadata": {
  "kernelspec": {
   "display_name": "Python 3 (ipykernel)",
   "language": "python",
   "name": "python3"
  },
  "language_info": {
   "codemirror_mode": {
    "name": "ipython",
    "version": 3
   },
   "file_extension": ".py",
   "mimetype": "text/x-python",
   "name": "python",
   "nbconvert_exporter": "python",
   "pygments_lexer": "ipython3",
   "version": "3.12.7"
  }
 },
 "nbformat": 4,
 "nbformat_minor": 5
}
