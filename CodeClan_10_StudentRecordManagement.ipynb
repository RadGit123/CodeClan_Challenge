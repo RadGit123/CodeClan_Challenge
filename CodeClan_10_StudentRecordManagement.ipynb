{
 "cells": [
  {
   "cell_type": "markdown",
   "id": "d0df15ee-12f4-4551-a494-8f19ab08158f",
   "metadata": {},
   "source": [
    "# CODECLAN CHALLENGE_10"
   ]
  },
  {
   "cell_type": "markdown",
   "id": "43c4310b-347a-430b-8dee-fe281e92be7c",
   "metadata": {},
   "source": [
    "# STUDENT RECORD MANAGEMNT"
   ]
  },
  {
   "cell_type": "code",
   "execution_count": 1,
   "id": "71dc07bb-3970-4c01-99e5-0a1eb3555a4e",
   "metadata": {},
   "outputs": [],
   "source": [
    "import os  \n",
    "import shutil "
   ]
  },
  {
   "cell_type": "code",
   "execution_count": 4,
   "id": "f57725a6-d3f2-43cd-b4b0-5052e85813a0",
   "metadata": {},
   "outputs": [
    {
     "name": "stdin",
     "output_type": "stream",
     "text": [
      "Enter the grade of the student 9\n"
     ]
    },
    {
     "name": "stdout",
     "output_type": "stream",
     "text": [
      "File for Grade 9 does not exist. Creating a new file...\n"
     ]
    },
    {
     "name": "stdin",
     "output_type": "stream",
     "text": [
      "Enter the student's name:  Fevel\n",
      "Enter the student's age:  14\n"
     ]
    },
    {
     "name": "stdout",
     "output_type": "stream",
     "text": [
      "Student Fevel added to Grade 9 file.\n"
     ]
    },
    {
     "name": "stdin",
     "output_type": "stream",
     "text": [
      " Do you want to read the file? yes\n"
     ]
    },
    {
     "name": "stdout",
     "output_type": "stream",
     "text": [
      "Student Details:\n",
      "Student Name: Fevel, Age: 14\n"
     ]
    },
    {
     "name": "stdin",
     "output_type": "stream",
     "text": [
      "📂 Do you want to create a copy?  yes\n"
     ]
    },
    {
     "name": "stdout",
     "output_type": "stream",
     "text": [
      "Backup created: 9_backup.txt\n"
     ]
    },
    {
     "name": "stdin",
     "output_type": "stream",
     "text": [
      "🗑 Do you want to delete the original file?  no\n"
     ]
    },
    {
     "name": "stdout",
     "output_type": "stream",
     "text": [
      "\n",
      "🎯 Process completed successfully!\n"
     ]
    }
   ],
   "source": [
    "student_grade = int(input(\"Enter the grade of the student\"))\n",
    "filename = f\"grade_{student_grade}.txt\"  \n",
    "duplicate_filename = f\"{student_grade}_backup.txt\" \n",
    "\n",
    "\n",
    "if not os.path.exists(filename):  \n",
    "    print(f\"File for Grade {student_grade} does not exist. Creating a new file...\")\n",
    "    open(filename, \"w\").close() \n",
    "\n",
    "student_name = input(\"Enter the student's name: \")  \n",
    "student_age = input(\"Enter the student's age: \") \n",
    "\n",
    "with open(filename, \"a\") as file:                                       # Open in append mode to add data\n",
    "    file.write(f\"Student Name: {student_name}, Age: {student_age}\") \n",
    "\n",
    "\n",
    "print(f\"Student {student_name} added to Grade {student_grade} file.\")\n",
    "\n",
    "\n",
    "\n",
    "choice_1= input(\" Do you want to read the file?\").lower()\n",
    "if choice_1 == \"yes\":\n",
    "    with open(filename, \"r\") as file:  \n",
    "        print(\"Student Details:\")\n",
    "        print(file.read())\n",
    "\n",
    "choice_2 = input(\"📂 Do you want to create a copy? \").lower()\n",
    "if choice_2== \"yes\":\n",
    "    shutil.copy(filename, duplicate_filename)  # Copy original file to backup\n",
    "    print(f\"Backup created: {duplicate_filename}\")\n",
    "\n",
    "\n",
    "choice_3 = input(\"🗑 Do you want to delete the original file? \").lower()\n",
    "if choice_3 == \"yes\":\n",
    "    if os.path.exists(duplicate_filename):                                          # Ensure backup exists before deleting\n",
    "        os.remove(filename)                                                         # Delete the original file\n",
    "        print(\" Original file deleted successfully!\")\n",
    "    else:\n",
    "        print(\"\\n⚠ Cannot delete! No backup found.\")\n",
    "\n",
    "print(\"\\n🎯 Process completed successfully!\")  \n",
    "\n"
   ]
  },
  {
   "cell_type": "code",
   "execution_count": null,
   "id": "4bebf802-ad54-4f4b-be6a-c01c320f7b68",
   "metadata": {},
   "outputs": [],
   "source": []
  },
  {
   "cell_type": "markdown",
   "id": "216f9071-21ce-4451-9fb1-fb68fcf10631",
   "metadata": {},
   "source": [
    "# method 2 without use of \"shutle.copy\" python module"
   ]
  },
  {
   "cell_type": "code",
   "execution_count": 7,
   "id": "39b4f3fe-742a-4843-8ef4-5e96ed1d9159",
   "metadata": {},
   "outputs": [
    {
     "name": "stdin",
     "output_type": "stream",
     "text": [
      "Enter the grade of the student 10\n"
     ]
    },
    {
     "name": "stdout",
     "output_type": "stream",
     "text": [
      "File for Grade 10 does not exist. Creating a new file...)\n"
     ]
    },
    {
     "name": "stdin",
     "output_type": "stream",
     "text": [
      "Enter the student's name:  Sana\n",
      "Enter the student's age:  15\n"
     ]
    },
    {
     "name": "stdout",
     "output_type": "stream",
     "text": [
      "Student Sana added to Grade 10 file.\n"
     ]
    },
    {
     "name": "stdin",
     "output_type": "stream",
     "text": [
      " Do you want to read the file? yes\n"
     ]
    },
    {
     "name": "stdout",
     "output_type": "stream",
     "text": [
      "Student Details:\n",
      "Student Name: Sana, Age: 15\n"
     ]
    },
    {
     "name": "stdin",
     "output_type": "stream",
     "text": [
      "📂 Do you want to create a copy?  yes\n"
     ]
    },
    {
     "name": "stdout",
     "output_type": "stream",
     "text": [
      "\n",
      "✅ Backup created manually: 9_backup.txt\n"
     ]
    },
    {
     "name": "stdin",
     "output_type": "stream",
     "text": [
      "🗑 Do you want to delete the original file?  no\n"
     ]
    },
    {
     "name": "stdout",
     "output_type": "stream",
     "text": [
      "\n",
      "🎯 Process completed successfully!\n"
     ]
    }
   ],
   "source": [
    "student_grade = input(\"Enter the grade of the student\")  \n",
    "filename = f\"grade_{student_grade}.txt\"  \n",
    "dulicate_filename = f\"{student_grade}_backup.txt\" \n",
    "\n",
    "\n",
    "if not os.path.exists(filename):  \n",
    "    print(f\"File for Grade {student_grade} does not exist. Creating a new file...)\")\n",
    "    open(filename, \"w\").close() \n",
    "\n",
    "student_name = input(\"Enter the student's name: \")  \n",
    "student_age = input(\"Enter the student's age: \") \n",
    "\n",
    "\n",
    "with open(filename, \"a\") as file:                                       # Open in append mode to add data\n",
    "    file.write(f\"Student Name: {student_name}, Age: {student_age}\") \n",
    "\n",
    "print(f\"Student {student_name} added to Grade {student_grade} file.\")\n",
    "\n",
    "\n",
    "\n",
    "choice_1= input(\" Do you want to read the file?\").lower()\n",
    "if choice_1 == \"yes\":\n",
    "    with open(filename, \"r\") as file:  \n",
    "        print(\"Student Details:\")\n",
    "        print(file.read())\n",
    "        \n",
    "\n",
    "choice_2 = input(\"📂 Do you want to create a copy? \").lower()\n",
    "if choice_2== \"yes\":\n",
    "\n",
    " with open(filename, \"r\") as original_file, open(duplicate_filename, \"w\") as backup_file:\n",
    "    for line in original_file:                                                             # Read line by line\n",
    "     backup_file.write(line)                                                               # Write each line to the backup file\n",
    "\n",
    "print(f\"\\n✅ Backup created manually: {duplicate_filename}\")\n",
    "\n",
    "\n",
    "\n",
    "choice_3 = input(\"🗑 Do you want to delete the original file? \").lower()\n",
    "if choice_3 == \"yes\":\n",
    "    if os.path.exists(duplicate_filename):                                              # Ensure backup exists before deleting\n",
    "        os.remove(filename)                                                             # Delete the original file\n",
    "        print(\" Original file deleted successfully!\")\n",
    "    else:\n",
    "        print(\"\\n⚠ Cannot delete! No backup found.\")\n",
    "\n",
    "print(\"\\n🎯 Process completed successfully!\")  \n",
    "\n"
   ]
  },
  {
   "cell_type": "code",
   "execution_count": null,
   "id": "8fa00226-e442-450f-90eb-0f902835ec74",
   "metadata": {},
   "outputs": [],
   "source": []
  }
 ],
 "metadata": {
  "kernelspec": {
   "display_name": "Python 3 (ipykernel)",
   "language": "python",
   "name": "python3"
  },
  "language_info": {
   "codemirror_mode": {
    "name": "ipython",
    "version": 3
   },
   "file_extension": ".py",
   "mimetype": "text/x-python",
   "name": "python",
   "nbconvert_exporter": "python",
   "pygments_lexer": "ipython3",
   "version": "3.12.7"
  }
 },
 "nbformat": 4,
 "nbformat_minor": 5
}
