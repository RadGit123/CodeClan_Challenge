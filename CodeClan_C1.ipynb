{
 "cells": [
  {
   "cell_type": "markdown",
   "id": "a74ab763-2cff-4cae-9f76-7ebacb5519bc",
   "metadata": {},
   "source": [
    "CodeClan_Challenge_1"
   ]
  },
  {
   "cell_type": "code",
   "execution_count": 1,
   "id": "69b65978-025f-49a2-8d08-39c0ba203a59",
   "metadata": {},
   "outputs": [
    {
     "name": "stdin",
     "output_type": "stream",
     "text": [
      "Enter your Birth year: 2011\n"
     ]
    },
    {
     "name": "stdout",
     "output_type": "stream",
     "text": [
      " Hey, you are 14 yesrs old !\n"
     ]
    }
   ],
   "source": [
    "from datetime import datetime as DT\n",
    "\n",
    "BY=int(input(\"Enter your Birth year:\"))\n",
    "\n",
    "CY=DT.now().year\n",
    "\n",
    "print(f\" Hey, you are { CY-BY} yesrs old !\")\n"
   ]
  },
  {
   "cell_type": "code",
   "execution_count": null,
   "id": "cacee345-fc8f-457b-8bca-757012d27ed1",
   "metadata": {},
   "outputs": [],
   "source": []
  }
 ],
 "metadata": {
  "kernelspec": {
   "display_name": "Python 3 (ipykernel)",
   "language": "python",
   "name": "python3"
  },
  "language_info": {
   "codemirror_mode": {
    "name": "ipython",
    "version": 3
   },
   "file_extension": ".py",
   "mimetype": "text/x-python",
   "name": "python",
   "nbconvert_exporter": "python",
   "pygments_lexer": "ipython3",
   "version": "3.12.7"
  }
 },
 "nbformat": 4,
 "nbformat_minor": 5
}
