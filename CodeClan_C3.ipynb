{
 "cells": [
  {
   "cell_type": "markdown",
   "id": "561cd268-6db0-43c3-9a25-fae60bcb4efc",
   "metadata": {},
   "source": [
    "*CodeClan_Challenge_3*"
   ]
  },
  {
   "cell_type": "markdown",
   "id": "f4743f5f-3898-4387-bb09-7cad4f7491ee",
   "metadata": {},
   "source": [
    "#  Multiplication Table."
   ]
  },
  {
   "cell_type": "markdown",
   "id": "7cdc4c16-2567-4f67-b241-2e5a2f5552f3",
   "metadata": {},
   "source": [
    "# Method 1 for loop"
   ]
  },
  {
   "cell_type": "code",
   "execution_count": 2,
   "id": "46cd4192-102f-4d56-ac9b-856e73a9dc6f",
   "metadata": {},
   "outputs": [
    {
     "name": "stdin",
     "output_type": "stream",
     "text": [
      "Enter the number: 11\n"
     ]
    },
    {
     "name": "stdout",
     "output_type": "stream",
     "text": [
      " The Multiplication table for 11 is :\n",
      "11x  1 = 11\n",
      "11x  2 = 22\n",
      "11x  3 = 33\n",
      "11x  4 = 44\n",
      "11x  5 = 55\n",
      "11x  6 = 66\n",
      "11x  7 = 77\n",
      "11x  8 = 88\n",
      "11x  9 = 99\n",
      "11x 10 = 110\n"
     ]
    }
   ],
   "source": [
    "N=int(input(\"Enter the number:\"))\n",
    "print(f\" The Multiplication table for {N} is :\")\n",
    "for i in range(1,11,1):\n",
    " print(f\"{N:1}x{i:3} = {N *i:2}\")"
   ]
  },
  {
   "cell_type": "code",
   "execution_count": null,
   "id": "9102af37-5926-42b0-9d08-329e5cbb2543",
   "metadata": {},
   "outputs": [],
   "source": []
  },
  {
   "cell_type": "markdown",
   "id": "b3e9fcb3-811a-47e8-bab8-e802b524fc67",
   "metadata": {},
   "source": [
    "# Method 2 while loop"
   ]
  },
  {
   "cell_type": "code",
   "execution_count": 1,
   "id": "493a3cde-8319-4137-8fb3-2079d0a73d88",
   "metadata": {},
   "outputs": [
    {
     "name": "stdin",
     "output_type": "stream",
     "text": [
      "Enter the number: 11\n"
     ]
    },
    {
     "name": "stdout",
     "output_type": "stream",
     "text": [
      " The Multiplication table for 11 is :\n",
      "11x  1 = 11\n",
      "11x  2 = 22\n",
      "11x  3 = 33\n",
      "11x  4 = 44\n",
      "11x  5 = 55\n",
      "11x  6 = 66\n",
      "11x  7 = 77\n",
      "11x  8 = 88\n",
      "11x  9 = 99\n",
      "11x 10 = 110\n"
     ]
    }
   ],
   "source": [
    "N=int(input(\"Enter the number:\"))\n",
    "i=1\n",
    "print(f\" The Multiplication table for {N} is :\")\n",
    "while i<=10:\n",
    " print(f\"{N:1}x{i:3} = {N *i:2}\")\n",
    " i+=1\n",
    "    "
   ]
  },
  {
   "cell_type": "code",
   "execution_count": null,
   "id": "f81b7e06-eb99-46b2-9b58-177816ca4718",
   "metadata": {},
   "outputs": [],
   "source": []
  }
 ],
 "metadata": {
  "kernelspec": {
   "display_name": "Python 3 (ipykernel)",
   "language": "python",
   "name": "python3"
  },
  "language_info": {
   "codemirror_mode": {
    "name": "ipython",
    "version": 3
   },
   "file_extension": ".py",
   "mimetype": "text/x-python",
   "name": "python",
   "nbconvert_exporter": "python",
   "pygments_lexer": "ipython3",
   "version": "3.12.7"
  }
 },
 "nbformat": 4,
 "nbformat_minor": 5
}
