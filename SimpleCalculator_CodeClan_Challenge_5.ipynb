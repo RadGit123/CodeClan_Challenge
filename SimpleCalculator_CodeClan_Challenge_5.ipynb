{
 "cells": [
  {
   "cell_type": "markdown",
   "id": "22f4672b-99b2-476d-9e1e-bd49d966bbeb",
   "metadata": {},
   "source": [
    "# CodeClan Challenge 5"
   ]
  },
  {
   "cell_type": "markdown",
   "id": "3a48481e-91c2-4a95-8599-3e7db0130778",
   "metadata": {},
   "source": [
    "# Simple Calculator-METHOD 1 input numbers are seperated using map() and split()"
   ]
  },
  {
   "cell_type": "code",
   "execution_count": 32,
   "id": "dc5e9654-9aab-41df-b22c-2ad9dc037216",
   "metadata": {},
   "outputs": [
    {
     "name": "stdin",
     "output_type": "stream",
     "text": [
      "Choose one operator (+,-,/,*): /\n",
      "Enter the numbers  with a space : 6 0\n"
     ]
    },
    {
     "name": "stdout",
     "output_type": "stream",
     "text": [
      "Cannot divide a number by zero\n"
     ]
    }
   ],
   "source": [
    "Operator=input(\"Choose one operator (+,-,/,*):\")\n",
    "\n",
    "Number_1,Number_2=map(float,(input(\"Enter the numbers  with a space :\")).split())\n",
    "\n",
    "if Operator==\"+\":\n",
    "  print(f\"Your Answer is {Number_1} + {Number_2} = {Number_1 + Number_2}\")\n",
    "elif Operator==\"-\":\n",
    "  print(f\"Your Answer is {Number_1} - {Number_2} ={Number_1 - Number_2}\")\n",
    "\n",
    "elif Operator==\"*\":\n",
    "  print(f\"Your Answer is {Number_1 }x {Number_2} ={Number_1 * Number_2}\")  \n",
    "\n",
    "elif Operator==\"/\":\n",
    "    \n",
    "  if Number_2!=0:\n",
    "   print(f\"Your Answer is ,{Number_1} / {Number_2} ={Number_1 / Number_2}\")\n",
    "  else :\n",
    "   print(f\"Cannot divide a number by zero\")\n",
    "\n",
    "else:\n",
    " print(f\"Enter a valid operator +,-,*,/\")"
   ]
  },
  {
   "cell_type": "code",
   "execution_count": null,
   "id": "5c4e506f-e0c2-4fab-9e7b-bd506aadb859",
   "metadata": {},
   "outputs": [],
   "source": []
  },
  {
   "cell_type": "markdown",
   "id": "3514705e-709e-4c89-bb9d-0fac1d95a7d7",
   "metadata": {},
   "source": [
    "# Simple Calculator-METHOD -2 input numbers are seperated using split()"
   ]
  },
  {
   "cell_type": "code",
   "execution_count": 33,
   "id": "dd10302a-cc54-41c3-a4be-68993546ab94",
   "metadata": {},
   "outputs": [
    {
     "name": "stdin",
     "output_type": "stream",
     "text": [
      "Choose one operator (+,-,/,*): /\n",
      "Enter the numbers: 6 0\n"
     ]
    },
    {
     "name": "stdout",
     "output_type": "stream",
     "text": [
      "Cannot divide a number by zero\n"
     ]
    }
   ],
   "source": [
    "Operator=input(\"Choose one operator (+,-,/,*):\")\n",
    "\n",
    "N=input(\"Enter the numbers:\").split()\n",
    "\n",
    "Number_1=float( N[0])\n",
    "Number_2=float(N[1])\n",
    "\n",
    "if Operator==\"+\":\n",
    "  print(f\"Your Answer is {Number_1} + {Number_2} ={Number_1 + Number_2}\")\n",
    "elif Operator==\"-\":\n",
    "  print(f\"Your Answer is {Number_1} - {Number_2} ={Number_1 - Number_2}\")\n",
    "\n",
    "elif Operator==\"*\":\n",
    "  print(f\"Your Answer is {Number_1}x {Number_2} ={Number_1 * Number_2}\")  \n",
    "\n",
    "elif Operator ==\"/\":\n",
    "  if Number_2!=0:\n",
    "   print(f\"Your Answer is {Number_1}/ {Number_2} ={Number_1 / Number_2}\")\n",
    "  else :\n",
    "   print(f\"Cannot divide a number by zero\")\n",
    "\n",
    "else:\n",
    " print(f\"Enter a valid operator +,-,*,/\")"
   ]
  },
  {
   "cell_type": "code",
   "execution_count": null,
   "id": "54baa933-fb4b-46f1-8ead-d3fc9f06f39b",
   "metadata": {},
   "outputs": [],
   "source": []
  },
  {
   "cell_type": "markdown",
   "id": "7b82b83b-ccfd-4b1f-9189-2ce142d3c3ba",
   "metadata": {},
   "source": [
    "# Simple Calculator-METHOD -3_input numbers are seperated using list and split()"
   ]
  },
  {
   "cell_type": "code",
   "execution_count": 31,
   "id": "83507feb-129c-48aa-9635-bbb153031c58",
   "metadata": {},
   "outputs": [
    {
     "name": "stdin",
     "output_type": "stream",
     "text": [
      "Choose one operator (+,-,/,*): /\n",
      "Enter the numbers with space : 6  0\n"
     ]
    },
    {
     "name": "stdout",
     "output_type": "stream",
     "text": [
      "Cannot divide a number by zero\n"
     ]
    }
   ],
   "source": [
    "Operator=input(\"Choose one operator (+,-,/,*):\")\n",
    "\n",
    "Number_1,Number_2= [float(x) for x in (input(\"Enter the numbers with space :\")).split()]\n",
    "\n",
    "if Operator==\"+\":\n",
    "  print(f\"Your Answer is {Number_1} + {Number_2} = {Number_1 + Number_2}\")\n",
    "elif Operator==\"-\":\n",
    "  print(f\"Your Answer is {Number_1} - {Number_2} ={Number_1 - Number_2}\")\n",
    "\n",
    "elif Operator==\"*\":\n",
    "  print(f\"Your Answer is {Number_1 }x {Number_2} ={Number_1 * Number_2}\")  \n",
    "\n",
    "elif Operator==\"/\":\n",
    "    \n",
    "  if Number_2!=0:\n",
    "   print(f\"Your Answer is {Number_1} / {Number_2} ={Number_1 / Number_2}\")\n",
    "  else :\n",
    "   print(f\"Cannot divide a number by zero\")\n",
    "\n",
    "else:\n",
    " print(f\"Enter a valid operator +,-,*,/\")"
   ]
  },
  {
   "cell_type": "code",
   "execution_count": null,
   "id": "945472ee-833e-43f6-a3d7-47485ced22fd",
   "metadata": {},
   "outputs": [],
   "source": []
  }
 ],
 "metadata": {
  "kernelspec": {
   "display_name": "Python 3 (ipykernel)",
   "language": "python",
   "name": "python3"
  },
  "language_info": {
   "codemirror_mode": {
    "name": "ipython",
    "version": 3
   },
   "file_extension": ".py",
   "mimetype": "text/x-python",
   "name": "python",
   "nbconvert_exporter": "python",
   "pygments_lexer": "ipython3",
   "version": "3.12.7"
  }
 },
 "nbformat": 4,
 "nbformat_minor": 5
}
