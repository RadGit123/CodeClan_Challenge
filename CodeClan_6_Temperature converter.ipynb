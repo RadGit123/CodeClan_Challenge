{
 "cells": [
  {
   "cell_type": "markdown",
   "id": "a71b2aed-4e5e-459b-b27b-7e87b5796183",
   "metadata": {},
   "source": [
    "# CodeClan Challenge-6"
   ]
  },
  {
   "cell_type": "markdown",
   "id": "dda63a11-93ec-4ef1-a019-7697a187170f",
   "metadata": {},
   "source": [
    "# Temperature Converter"
   ]
  },
  {
   "cell_type": "code",
   "execution_count": 16,
   "id": "470da717-e809-47b4-b7af-6e3df4909f77",
   "metadata": {},
   "outputs": [
    {
     "name": "stdin",
     "output_type": "stream",
     "text": [
      "Enter the temperature: 60\n",
      "Enter the unit F/C: f\n"
     ]
    },
    {
     "name": "stdout",
     "output_type": "stream",
     "text": [
      " 60.0°  Fahrenheit Is 15.555555555555555°  Celsius\n"
     ]
    }
   ],
   "source": [
    "def F_TO_C(F):\n",
    "  C=(F-32)*5/9\n",
    "  return C\n",
    "\n",
    "def C_TO_F(C):\n",
    "  F=(C*9/5)+32\n",
    "  return F\n",
    "\n",
    "\n",
    "Temp=float(input(\"Enter the temperature:\"))\n",
    "Unit=input(\"Enter the unit F/C:\").strip().upper()\n",
    "\n",
    "\n",
    "if Unit==\"F\":\n",
    "   FahrenheitToCelsius=F_TO_C(Temp)\n",
    "   print(f\" {Temp}\\u00b0  Fahrenheit Is {FahrenheitToCelsius}\\u00b0  Celsius\")                 # Unicode for degree symbol: \\u00b0.\n",
    "\n",
    "elif Unit==\"C\":\n",
    "   CelsiusToFahrenheit=C_TO_F(Temp)\n",
    "   print(f\" {Temp}\\u00b0  Celsius is {CelsiusToFahrenheit}\\u00b0  Fahrenheit\")\n",
    "\n",
    "else:\n",
    "     print(f\" Enter a valid number\")\n",
    "                 \n",
    "         "
   ]
  },
  {
   "cell_type": "code",
   "execution_count": null,
   "id": "dfb92734-e721-4d5a-9c18-d9c8dd2c75d2",
   "metadata": {},
   "outputs": [],
   "source": []
  }
 ],
 "metadata": {
  "kernelspec": {
   "display_name": "Python 3 (ipykernel)",
   "language": "python",
   "name": "python3"
  },
  "language_info": {
   "codemirror_mode": {
    "name": "ipython",
    "version": 3
   },
   "file_extension": ".py",
   "mimetype": "text/x-python",
   "name": "python",
   "nbconvert_exporter": "python",
   "pygments_lexer": "ipython3",
   "version": "3.12.7"
  }
 },
 "nbformat": 4,
 "nbformat_minor": 5
}
