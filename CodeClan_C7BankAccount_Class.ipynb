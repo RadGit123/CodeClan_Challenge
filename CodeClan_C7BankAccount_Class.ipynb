{
 "cells": [
  {
   "cell_type": "markdown",
   "id": "a7918eca-5be3-4113-9bae-b5d284d87550",
   "metadata": {},
   "source": [
    "# CODECLAN CHALLENGE-7"
   ]
  },
  {
   "cell_type": "markdown",
   "id": "7eabc293-e887-498c-8ad4-7bd18112980f",
   "metadata": {},
   "source": [
    "# THE BANK ACCOUNT CHALLENGE"
   ]
  },
  {
   "cell_type": "code",
   "execution_count": 7,
   "id": "de8c1e09-4404-4d84-80fb-be5f5ff498c0",
   "metadata": {},
   "outputs": [
    {
     "name": "stdout",
     "output_type": "stream",
     "text": [
      "200 is deposited,new Balance is 1200\n",
      "100 is withrawn,Balance is 1100\n",
      "The Account holder is JAIN ,Balance is 1100\n"
     ]
    }
   ],
   "source": [
    "class BankAccount:\n",
    " def __init__(self,Account_holder,Balance=0):       # intialize the account\n",
    "    self.Account_holder=Account_holder\n",
    "    self.Balance=Balance\n",
    "\n",
    " def Deposit(self,Amount):\n",
    "     if Amount >0:\n",
    "      self.Balance+=Amount\n",
    "      print(f\"{Amount} is deposited,new Balance is {self.Balance}\")\n",
    "     else:\n",
    "      print(\"Enter a valid amount\")\n",
    "      \n",
    " def Withdraw(self,Amount):\n",
    "    if 0<Amount<self.Balance:\n",
    "       self.Balance-=Amount\n",
    "       print(f\"{Amount} is withrawn,Balance is {self.Balance}\")\n",
    "\n",
    "    elif Amount>self.Balance:\n",
    "      print(f\"not enough balance\")\n",
    "\n",
    "    else:\n",
    "     print(\"Enter a valid amount\")\n",
    "\n",
    " def check_balance(self):\n",
    "    print(f\"The Account holder is {self.Account_holder} ,Balance is {self.Balance}\")\n",
    "\n",
    "\n",
    "\n",
    "Account1=BankAccount(\"JAIN\",1000)\n",
    "Account1.Deposit(200)\n",
    "Account1.Withdraw(100)\n",
    "Account1.check_balance()"
   ]
  },
  {
   "cell_type": "code",
   "execution_count": null,
   "id": "cfc709d0-d03c-4539-95e0-709877eefce1",
   "metadata": {},
   "outputs": [],
   "source": []
  },
  {
   "cell_type": "code",
   "execution_count": null,
   "id": "da832872-5e3c-4143-b2da-dc6c9569aa83",
   "metadata": {},
   "outputs": [],
   "source": []
  },
  {
   "cell_type": "code",
   "execution_count": null,
   "id": "cd2fee2a-c329-4cc9-99ca-fd2d8c58acd3",
   "metadata": {},
   "outputs": [],
   "source": []
  }
 ],
 "metadata": {
  "kernelspec": {
   "display_name": "Python 3 (ipykernel)",
   "language": "python",
   "name": "python3"
  },
  "language_info": {
   "codemirror_mode": {
    "name": "ipython",
    "version": 3
   },
   "file_extension": ".py",
   "mimetype": "text/x-python",
   "name": "python",
   "nbconvert_exporter": "python",
   "pygments_lexer": "ipython3",
   "version": "3.12.7"
  }
 },
 "nbformat": 4,
 "nbformat_minor": 5
}
