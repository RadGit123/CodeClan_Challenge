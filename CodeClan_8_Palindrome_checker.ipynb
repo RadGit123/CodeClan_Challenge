{
 "cells": [
  {
   "cell_type": "markdown",
   "id": "313792de-1963-4b20-b8d1-b59101ccf09d",
   "metadata": {},
   "source": [
    "# CODECLAN CHALLENGE_8"
   ]
  },
  {
   "cell_type": "markdown",
   "id": "93ead6b8-37cc-4164-b953-f61695100b43",
   "metadata": {},
   "source": [
    "# PALINDROME CHECKER -method 1"
   ]
  },
  {
   "cell_type": "code",
   "execution_count": 19,
   "id": "72537370-ca8e-4410-807a-ed11729a1040",
   "metadata": {},
   "outputs": [
    {
     "name": "stdin",
     "output_type": "stream",
     "text": [
      "Enter the sentence: vvvvvvv   vv.vv\"v,v\n"
     ]
    },
    {
     "name": "stdout",
     "output_type": "stream",
     "text": [
      " yes,vvvvvvv   vv.vv\"v,v is palindrome.😁\n"
     ]
    }
   ],
   "source": [
    "User_input=input(\"Enter the sentence:\").lower()\n",
    "temporary_user_input=\"\"\n",
    "for char in User_input:\n",
    "   if char.isalnum():\n",
    "     temporary_user_input+= char\n",
    "       \n",
    "Reverse_userinput=temporary_user_input[::-1]\n",
    "\n",
    "if temporary_user_input==Reverse_userinput:\n",
    " print(f\" yes,{User_input} is palindrome.😁\")\n",
    "else:\n",
    " print(f\" no,{User_input} is not palindrome.🙁\")\n"
   ]
  },
  {
   "cell_type": "code",
   "execution_count": null,
   "id": "c0ef9df5-dc49-4a88-889b-31719f806647",
   "metadata": {},
   "outputs": [],
   "source": []
  },
  {
   "cell_type": "markdown",
   "id": "936b510a-49c7-42c1-aa87-e5e3e7999a07",
   "metadata": {},
   "source": [
    "# PALINDROME CHECKER -method 2_using regular expression  module."
   ]
  },
  {
   "cell_type": "code",
   "execution_count": 27,
   "id": "ad11be5a-7d90-480a-bb19-c2a6a944cb59",
   "metadata": {},
   "outputs": [
    {
     "name": "stdin",
     "output_type": "stream",
     "text": [
      "Enter the sentence: vvvvvvv   vv.vv\"v,v\n"
     ]
    },
    {
     "name": "stdout",
     "output_type": "stream",
     "text": [
      " yes,vvvvvvvvvvvvv is palindrome.😁\n"
     ]
    }
   ],
   "source": [
    "import re  # regualr  expression module to remove space and panctuation.\n",
    "\n",
    "def Palindrom_Checker(User_input):\n",
    "\n",
    "  new_user_input=re.sub(r'[^a-zA-Z0-9]','',User_input).lower()      # removing non alpha numeric characters from input\n",
    "                       \n",
    "  Reverse_userinput=new_user_input[::-1]                           # taking reverse of user input\n",
    "\n",
    "  return new_user_input, Reverse_userinput\n",
    "\n",
    "User_input ,Reverse_userinput=Palindrom_Checker(input(\"Enter the sentence:\"))\n",
    "\n",
    "if User_input==Reverse_userinput:\n",
    " print(f\" yes,{User_input} is palindrome.😁\")\n",
    "else:\n",
    " print(f\" no,{User_input} is not palindrome.🙁\")"
   ]
  },
  {
   "cell_type": "code",
   "execution_count": null,
   "id": "c6f84f03-3474-4b85-bf34-fa36cb345b7d",
   "metadata": {},
   "outputs": [],
   "source": []
  }
 ],
 "metadata": {
  "kernelspec": {
   "display_name": "Python 3 (ipykernel)",
   "language": "python",
   "name": "python3"
  },
  "language_info": {
   "codemirror_mode": {
    "name": "ipython",
    "version": 3
   },
   "file_extension": ".py",
   "mimetype": "text/x-python",
   "name": "python",
   "nbconvert_exporter": "python",
   "pygments_lexer": "ipython3",
   "version": "3.12.7"
  }
 },
 "nbformat": 4,
 "nbformat_minor": 5
}
